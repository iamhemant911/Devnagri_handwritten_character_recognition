{
 "cells": [
  {
   "cell_type": "code",
   "execution_count": 9,
   "metadata": {},
   "outputs": [
    {
     "ename": "ImportError",
     "evalue": "cannot import name 'threadpoolexecutor' from 'concurrent.futures' (C:\\Users\\hemant\\anaconda3\\lib\\concurrent\\futures\\__init__.py)",
     "output_type": "error",
     "traceback": [
      "\u001b[1;31m---------------------------------------------------------------------------\u001b[0m",
      "\u001b[1;31mImportError\u001b[0m                               Traceback (most recent call last)",
      "\u001b[1;32m<ipython-input-9-3be89b53501b>\u001b[0m in \u001b[0;36m<module>\u001b[1;34m\u001b[0m\n\u001b[0;32m      3\u001b[0m \u001b[1;32mimport\u001b[0m \u001b[0mos\u001b[0m\u001b[1;33m\u001b[0m\u001b[1;33m\u001b[0m\u001b[0m\n\u001b[0;32m      4\u001b[0m \u001b[1;32mfrom\u001b[0m \u001b[0mglob\u001b[0m \u001b[1;32mimport\u001b[0m \u001b[0miglob\u001b[0m\u001b[1;33m\u001b[0m\u001b[1;33m\u001b[0m\u001b[0m\n\u001b[1;32m----> 5\u001b[1;33m \u001b[1;32mfrom\u001b[0m \u001b[0mconcurrent\u001b[0m\u001b[1;33m.\u001b[0m\u001b[0mfutures\u001b[0m \u001b[1;32mimport\u001b[0m \u001b[0mthreadpoolexecutor\u001b[0m\u001b[1;33m\u001b[0m\u001b[1;33m\u001b[0m\u001b[0m\n\u001b[0m\u001b[0;32m      6\u001b[0m \u001b[1;32mimport\u001b[0m \u001b[0mmatplotlib\u001b[0m\u001b[1;33m.\u001b[0m\u001b[0mpyplot\u001b[0m \u001b[1;32mas\u001b[0m \u001b[0mplt\u001b[0m\u001b[1;33m\u001b[0m\u001b[1;33m\u001b[0m\u001b[0m\n",
      "\u001b[1;31mImportError\u001b[0m: cannot import name 'threadpoolexecutor' from 'concurrent.futures' (C:\\Users\\hemant\\anaconda3\\lib\\concurrent\\futures\\__init__.py)"
     ]
    }
   ],
   "source": [
    "import pandas as pd\n",
    "import numpy as np\n",
    "import os\n",
    "from glob import iglob\n",
    "from concurrent.futures import threadpoolexecutor\n",
    "import matplotlib.pyplot as plt"
   ]
  },
  {
   "cell_type": "code",
   "execution_count": 2,
   "metadata": {},
   "outputs": [],
   "source": [
    "class img_to_df:\n",
    "    \n",
    "    def __init__(self,images_path,split_ratio):\n",
    "        self.path = images_path\n",
    "        self.unique_labels = os.listdir(images_path)\n",
    "        self.train_cv_split = split_ratio\n",
    "        \n",
    "    #in our example, self.path = \"./DevnagariHandwrittenCharacterDataset/DevnagariHandwrittenCharacterDataset/Train\"\n",
    "        \n",
    "    def list_of_images(self,folder):\n",
    "        return iglob(os.path.join(self.path,folder)+\"/*.png\")\n",
    "    \n",
    "    #os.path.join will result in the following output:\n",
    "    #\"./DevnagariHandwrittenCharacterDataset/DevnagariHandwrittenCharacterDataset/Train/character_10_yna/*.png\"\n",
    "    \n",
    "    def read_image(self,folder_image):\n",
    "        image = plt.imread(folder_image)\n",
    "        return image.reshape(image.shape[0]*image.shape[1],)\n",
    "    \n",
    "    \n",
    "    def stacking_row_vectors(self,folder):\n",
    "        images_list_generator = self.list_of_images(folder)    \n",
    "        with ThreadPoolExecutor(max_workers=4) as p:\n",
    "            lazy_loop = p.map(self.read_image,images_list_generator)\n",
    "        return lazy_loop\n",
    "    \n",
    "    \n",
    "    def generate_df(self):\n",
    "        train_data = list()\n",
    "        cv_data = list()\n",
    "        \n",
    "        for folder in self.unique_labels:\n",
    "            dir_images_generator = self.stacking_row_vectors(folder)\n",
    "            \n",
    "            train_folder_matrix = list()\n",
    "            cv_folder_matrix = list()\n",
    "            \n",
    "            for i in range(int(self.train_cv_split[0]*1700)):\n",
    "                try:\n",
    "                    train_folder_matrix.append(next(dir_images_generator))\n",
    "                except StopIteration:\n",
    "                    break\n",
    "                \n",
    "            for i in range(int(self.train_cv_split[1]*1700)):\n",
    "                try:\n",
    "                    cv_folder_matrix.append(next(dir_images_generator))\n",
    "                except StopIteration:\n",
    "                    break\n",
    "                \n",
    "            train_folder_matrix = np.array(train_folder_matrix)\n",
    "            cv_folder_matrix = np.array(cv_folder_matrix)\n",
    "            \n",
    "            train_data.append(train_folder_matrix)\n",
    "            cv_data.append(cv_folder_matrix)\n",
    "            \n",
    "            #Now, your assignment is to write something else inspite of the above two statements such that\n",
    "            #we are putting very less load on our main memory\n",
    "            \n",
    "        train_data = np.concatenate(train_data,axis=0)\n",
    "        cv_data = np.concatenate(cv_data,axis=0)\n",
    "        train_labels = list()\n",
    "        cv_labels = list()\n",
    "        \n",
    "        for folder_name in self.unique_labels:\n",
    "            train_labels = train_labels + [folder_name]*train_folder_matrix.shape[0]\n",
    "            cv_labels = cv_labels + [folder_name]*cv_folder_matrix.shape[0]\n",
    "            \n",
    "        train_data = pd.DataFrame(data=train_data)\n",
    "        train_data['label'] = train_labels\n",
    "        cv_data = pd.DataFrame(data=cv_data)\n",
    "        cv_data['label'] = cv_labels\n",
    "        return train_data,cv_data\n",
    "                    "
   ]
  },
  {
   "cell_type": "code",
   "execution_count": 4,
   "metadata": {},
   "outputs": [],
   "source": [
    "obj=img_to_df(\"./DevanagariHandwrittenCharacterDataset/Train\",(0.8,0.2))"
   ]
  },
  {
   "cell_type": "code",
   "execution_count": 5,
   "metadata": {},
   "outputs": [
    {
     "data": {
      "text/plain": [
       "'./DevanagariHandwrittenCharacterDataset/Train'"
      ]
     },
     "execution_count": 5,
     "metadata": {},
     "output_type": "execute_result"
    }
   ],
   "source": [
    "obj.path"
   ]
  },
  {
   "cell_type": "code",
   "execution_count": 6,
   "metadata": {},
   "outputs": [
    {
     "data": {
      "text/plain": [
       "['character_10_yna',\n",
       " 'character_11_taamatar',\n",
       " 'character_12_thaa',\n",
       " 'character_13_daa',\n",
       " 'character_14_dhaa',\n",
       " 'character_15_adna',\n",
       " 'character_16_tabala',\n",
       " 'character_17_tha',\n",
       " 'character_18_da',\n",
       " 'character_19_dha',\n",
       " 'character_1_ka',\n",
       " 'character_20_na',\n",
       " 'character_21_pa',\n",
       " 'character_22_pha',\n",
       " 'character_23_ba',\n",
       " 'character_24_bha',\n",
       " 'character_25_ma',\n",
       " 'character_26_yaw',\n",
       " 'character_27_ra',\n",
       " 'character_28_la',\n",
       " 'character_29_waw',\n",
       " 'character_2_kha',\n",
       " 'character_30_motosaw',\n",
       " 'character_31_petchiryakha',\n",
       " 'character_32_patalosaw',\n",
       " 'character_33_ha',\n",
       " 'character_34_chhya',\n",
       " 'character_35_tra',\n",
       " 'character_36_gya',\n",
       " 'character_3_ga',\n",
       " 'character_4_gha',\n",
       " 'character_5_kna',\n",
       " 'character_6_cha',\n",
       " 'character_7_chha',\n",
       " 'character_8_ja',\n",
       " 'character_9_jha',\n",
       " 'digit_0',\n",
       " 'digit_1',\n",
       " 'digit_2',\n",
       " 'digit_3',\n",
       " 'digit_4',\n",
       " 'digit_5',\n",
       " 'digit_6',\n",
       " 'digit_7',\n",
       " 'digit_8',\n",
       " 'digit_9']"
      ]
     },
     "execution_count": 6,
     "metadata": {},
     "output_type": "execute_result"
    }
   ],
   "source": [
    "obj.unique_labels"
   ]
  },
  {
   "cell_type": "code",
   "execution_count": 7,
   "metadata": {},
   "outputs": [
    {
     "data": {
      "text/plain": [
       "(0.8, 0.2)"
      ]
     },
     "execution_count": 7,
     "metadata": {},
     "output_type": "execute_result"
    }
   ],
   "source": [
    "obj.train_cv_split"
   ]
  },
  {
   "cell_type": "code",
   "execution_count": 8,
   "metadata": {},
   "outputs": [
    {
     "ename": "NameError",
     "evalue": "name 'ThreadPoolExecutor' is not defined",
     "output_type": "error",
     "traceback": [
      "\u001b[1;31m---------------------------------------------------------------------------\u001b[0m",
      "\u001b[1;31mNameError\u001b[0m                                 Traceback (most recent call last)",
      "\u001b[1;32m<ipython-input-8-8d763ab7d7be>\u001b[0m in \u001b[0;36m<module>\u001b[1;34m\u001b[0m\n\u001b[1;32m----> 1\u001b[1;33m \u001b[0mtraining_data\u001b[0m\u001b[1;33m,\u001b[0m\u001b[0mcv_data\u001b[0m\u001b[1;33m=\u001b[0m\u001b[0mobj\u001b[0m\u001b[1;33m.\u001b[0m\u001b[0mgenerate_df\u001b[0m\u001b[1;33m(\u001b[0m\u001b[1;33m)\u001b[0m\u001b[1;33m\u001b[0m\u001b[1;33m\u001b[0m\u001b[0m\n\u001b[0m",
      "\u001b[1;32m<ipython-input-2-98cda28bbf61>\u001b[0m in \u001b[0;36mgenerate_df\u001b[1;34m(self)\u001b[0m\n\u001b[0;32m     31\u001b[0m \u001b[1;33m\u001b[0m\u001b[0m\n\u001b[0;32m     32\u001b[0m         \u001b[1;32mfor\u001b[0m \u001b[0mfolder\u001b[0m \u001b[1;32min\u001b[0m \u001b[0mself\u001b[0m\u001b[1;33m.\u001b[0m\u001b[0munique_labels\u001b[0m\u001b[1;33m:\u001b[0m\u001b[1;33m\u001b[0m\u001b[1;33m\u001b[0m\u001b[0m\n\u001b[1;32m---> 33\u001b[1;33m             \u001b[0mdir_images_generator\u001b[0m \u001b[1;33m=\u001b[0m \u001b[0mself\u001b[0m\u001b[1;33m.\u001b[0m\u001b[0mstacking_row_vectors\u001b[0m\u001b[1;33m(\u001b[0m\u001b[0mfolder\u001b[0m\u001b[1;33m)\u001b[0m\u001b[1;33m\u001b[0m\u001b[1;33m\u001b[0m\u001b[0m\n\u001b[0m\u001b[0;32m     34\u001b[0m \u001b[1;33m\u001b[0m\u001b[0m\n\u001b[0;32m     35\u001b[0m             \u001b[0mtrain_folder_matrix\u001b[0m \u001b[1;33m=\u001b[0m \u001b[0mlist\u001b[0m\u001b[1;33m(\u001b[0m\u001b[1;33m)\u001b[0m\u001b[1;33m\u001b[0m\u001b[1;33m\u001b[0m\u001b[0m\n",
      "\u001b[1;32m<ipython-input-2-98cda28bbf61>\u001b[0m in \u001b[0;36mstacking_row_vectors\u001b[1;34m(self, folder)\u001b[0m\n\u001b[0;32m     21\u001b[0m     \u001b[1;32mdef\u001b[0m \u001b[0mstacking_row_vectors\u001b[0m\u001b[1;33m(\u001b[0m\u001b[0mself\u001b[0m\u001b[1;33m,\u001b[0m\u001b[0mfolder\u001b[0m\u001b[1;33m)\u001b[0m\u001b[1;33m:\u001b[0m\u001b[1;33m\u001b[0m\u001b[1;33m\u001b[0m\u001b[0m\n\u001b[0;32m     22\u001b[0m         \u001b[0mimages_list_generator\u001b[0m \u001b[1;33m=\u001b[0m \u001b[0mself\u001b[0m\u001b[1;33m.\u001b[0m\u001b[0mlist_of_images\u001b[0m\u001b[1;33m(\u001b[0m\u001b[0mfolder\u001b[0m\u001b[1;33m)\u001b[0m\u001b[1;33m\u001b[0m\u001b[1;33m\u001b[0m\u001b[0m\n\u001b[1;32m---> 23\u001b[1;33m         \u001b[1;32mwith\u001b[0m \u001b[0mThreadPoolExecutor\u001b[0m\u001b[1;33m(\u001b[0m\u001b[0mmax_workers\u001b[0m\u001b[1;33m=\u001b[0m\u001b[1;36m4\u001b[0m\u001b[1;33m)\u001b[0m \u001b[1;32mas\u001b[0m \u001b[0mp\u001b[0m\u001b[1;33m:\u001b[0m\u001b[1;33m\u001b[0m\u001b[1;33m\u001b[0m\u001b[0m\n\u001b[0m\u001b[0;32m     24\u001b[0m             \u001b[0mlazy_loop\u001b[0m \u001b[1;33m=\u001b[0m \u001b[0mp\u001b[0m\u001b[1;33m.\u001b[0m\u001b[0mmap\u001b[0m\u001b[1;33m(\u001b[0m\u001b[0mself\u001b[0m\u001b[1;33m.\u001b[0m\u001b[0mread_image\u001b[0m\u001b[1;33m,\u001b[0m\u001b[0mimages_list_generator\u001b[0m\u001b[1;33m)\u001b[0m\u001b[1;33m\u001b[0m\u001b[1;33m\u001b[0m\u001b[0m\n\u001b[0;32m     25\u001b[0m         \u001b[1;32mreturn\u001b[0m \u001b[0mlazy_loop\u001b[0m\u001b[1;33m\u001b[0m\u001b[1;33m\u001b[0m\u001b[0m\n",
      "\u001b[1;31mNameError\u001b[0m: name 'ThreadPoolExecutor' is not defined"
     ]
    }
   ],
   "source": [
    "training_data,cv_data=obj.generate_df()"
   ]
  },
  {
   "cell_type": "code",
   "execution_count": 10,
   "metadata": {},
   "outputs": [],
   "source": [
    "gen=iglob(os.path.join(obj.path,os.listdir(obj.path)[0])+\"/*.png\")"
   ]
  },
  {
   "cell_type": "code",
   "execution_count": 11,
   "metadata": {},
   "outputs": [
    {
     "data": {
      "text/plain": [
       "<generator object _iglob at 0x0000020DBFC893C8>"
      ]
     },
     "execution_count": 11,
     "metadata": {},
     "output_type": "execute_result"
    }
   ],
   "source": [
    "gen"
   ]
  },
  {
   "cell_type": "code",
   "execution_count": 12,
   "metadata": {},
   "outputs": [
    {
     "data": {
      "text/plain": [
       "'./DevanagariHandwrittenCharacterDataset/Train\\\\character_10_yna\\\\10542.png'"
      ]
     },
     "execution_count": 12,
     "metadata": {},
     "output_type": "execute_result"
    }
   ],
   "source": [
    "next(gen)"
   ]
  },
  {
   "cell_type": "code",
   "execution_count": null,
   "metadata": {},
   "outputs": [],
   "source": []
  }
 ],
 "metadata": {
  "kernelspec": {
   "display_name": "Python 3",
   "language": "python",
   "name": "python3"
  },
  "language_info": {
   "codemirror_mode": {
    "name": "ipython",
    "version": 3
   },
   "file_extension": ".py",
   "mimetype": "text/x-python",
   "name": "python",
   "nbconvert_exporter": "python",
   "pygments_lexer": "ipython3",
   "version": "3.7.10"
  }
 },
 "nbformat": 4,
 "nbformat_minor": 4
}
