{
 "cells": [
  {
   "cell_type": "code",
   "execution_count": 1,
   "id": "severe-sleeping",
   "metadata": {},
   "outputs": [],
   "source": [
    "import os"
   ]
  },
  {
   "cell_type": "code",
   "execution_count": 5,
   "id": "commercial-supplier",
   "metadata": {},
   "outputs": [],
   "source": [
    "unique_labels=os.listdir('./DevanagariHandwrittenCharacterDataset/Train')"
   ]
  },
  {
   "cell_type": "code",
   "execution_count": 6,
   "id": "bacterial-settlement",
   "metadata": {},
   "outputs": [
    {
     "data": {
      "text/plain": [
       "['character_10_yna',\n",
       " 'character_11_taamatar',\n",
       " 'character_12_thaa',\n",
       " 'character_13_daa',\n",
       " 'character_14_dhaa',\n",
       " 'character_15_adna',\n",
       " 'character_16_tabala',\n",
       " 'character_17_tha',\n",
       " 'character_18_da',\n",
       " 'character_19_dha',\n",
       " 'character_1_ka',\n",
       " 'character_20_na',\n",
       " 'character_21_pa',\n",
       " 'character_22_pha',\n",
       " 'character_23_ba',\n",
       " 'character_24_bha',\n",
       " 'character_25_ma',\n",
       " 'character_26_yaw',\n",
       " 'character_27_ra',\n",
       " 'character_28_la',\n",
       " 'character_29_waw',\n",
       " 'character_2_kha',\n",
       " 'character_30_motosaw',\n",
       " 'character_31_petchiryakha',\n",
       " 'character_32_patalosaw',\n",
       " 'character_33_ha',\n",
       " 'character_34_chhya',\n",
       " 'character_35_tra',\n",
       " 'character_36_gya',\n",
       " 'character_3_ga',\n",
       " 'character_4_gha',\n",
       " 'character_5_kna',\n",
       " 'character_6_cha',\n",
       " 'character_7_chha',\n",
       " 'character_8_ja',\n",
       " 'character_9_jha',\n",
       " 'digit_0',\n",
       " 'digit_1',\n",
       " 'digit_2',\n",
       " 'digit_3',\n",
       " 'digit_4',\n",
       " 'digit_5',\n",
       " 'digit_6',\n",
       " 'digit_7',\n",
       " 'digit_8',\n",
       " 'digit_9']"
      ]
     },
     "execution_count": 6,
     "metadata": {},
     "output_type": "execute_result"
    }
   ],
   "source": [
    "unique_labels"
   ]
  },
  {
   "cell_type": "code",
   "execution_count": 7,
   "id": "twelve-offering",
   "metadata": {},
   "outputs": [],
   "source": [
    "train_path='./DevanagariHandwrittenCharacterDataset/Train'"
   ]
  },
  {
   "cell_type": "code",
   "execution_count": 8,
   "id": "defensive-syracuse",
   "metadata": {},
   "outputs": [],
   "source": [
    "test_path='./DevanagariHandwrittenCharacterDataset/Test'"
   ]
  },
  {
   "cell_type": "code",
   "execution_count": 10,
   "id": "offensive-monroe",
   "metadata": {},
   "outputs": [],
   "source": [
    "#for folder_name in unique_labels:\n",
    " #   print(os.path.join(train_path,folder_name))\n",
    "folder_path=os.path.join(train_path,unique_labels[0])    "
   ]
  },
  {
   "cell_type": "code",
   "execution_count": 11,
   "id": "abstract-berry",
   "metadata": {},
   "outputs": [
    {
     "data": {
      "text/plain": [
       "1700"
      ]
     },
     "execution_count": 11,
     "metadata": {},
     "output_type": "execute_result"
    }
   ],
   "source": [
    "len(os.listdir(folder_path))"
   ]
  },
  {
   "cell_type": "code",
   "execution_count": null,
   "id": "hispanic-boards",
   "metadata": {},
   "outputs": [],
   "source": []
  }
 ],
 "metadata": {
  "kernelspec": {
   "display_name": "Python 3",
   "language": "python",
   "name": "python3"
  },
  "language_info": {
   "codemirror_mode": {
    "name": "ipython",
    "version": 3
   },
   "file_extension": ".py",
   "mimetype": "text/x-python",
   "name": "python",
   "nbconvert_exporter": "python",
   "pygments_lexer": "ipython3",
   "version": "3.7.10"
  }
 },
 "nbformat": 4,
 "nbformat_minor": 5
}
